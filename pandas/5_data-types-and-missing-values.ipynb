{
 "cells": [
  {
   "cell_type": "code",
   "execution_count": 1,
   "metadata": {},
   "outputs": [
    {
     "output_type": "execute_result",
     "data": {
      "text/plain": "    country                                        description  \\\n0     Italy  Aromas include tropical fruit, broom, brimston...   \n1  Portugal  This is ripe and fruity, a wine that is smooth...   \n2        US  Tart and snappy, the flavors of lime flesh and...   \n3        US  Pineapple rind, lemon pith and orange blossom ...   \n4        US  Much like the regular bottling from 2012, this...   \n\n                          designation  points  price           province  \\\n0                        Vulkà Bianco      87    NaN  Sicily & Sardinia   \n1                            Avidagos      87   15.0              Douro   \n2                                 NaN      87   14.0             Oregon   \n3                Reserve Late Harvest      87   13.0           Michigan   \n4  Vintner's Reserve Wild Child Block      87   65.0             Oregon   \n\n              region_1           region_2         taster_name  \\\n0                 Etna                NaN       Kerin O’Keefe   \n1                  NaN                NaN          Roger Voss   \n2    Willamette Valley  Willamette Valley        Paul Gregutt   \n3  Lake Michigan Shore                NaN  Alexander Peartree   \n4    Willamette Valley  Willamette Valley        Paul Gregutt   \n\n  taster_twitter_handle                                              title  \\\n0          @kerinokeefe                  Nicosia 2013 Vulkà Bianco  (Etna)   \n1            @vossroger      Quinta dos Avidagos 2011 Avidagos Red (Douro)   \n2           @paulgwine       Rainstorm 2013 Pinot Gris (Willamette Valley)   \n3                   NaN  St. Julian 2013 Reserve Late Harvest Riesling ...   \n4           @paulgwine   Sweet Cheeks 2012 Vintner's Reserve Wild Child...   \n\n          variety               winery  \n0     White Blend              Nicosia  \n1  Portuguese Red  Quinta dos Avidagos  \n2      Pinot Gris            Rainstorm  \n3        Riesling           St. Julian  \n4      Pinot Noir         Sweet Cheeks  ",
      "text/html": "<div>\n<style scoped>\n    .dataframe tbody tr th:only-of-type {\n        vertical-align: middle;\n    }\n\n    .dataframe tbody tr th {\n        vertical-align: top;\n    }\n\n    .dataframe thead th {\n        text-align: right;\n    }\n</style>\n<table border=\"1\" class=\"dataframe\">\n  <thead>\n    <tr style=\"text-align: right;\">\n      <th></th>\n      <th>country</th>\n      <th>description</th>\n      <th>designation</th>\n      <th>points</th>\n      <th>price</th>\n      <th>province</th>\n      <th>region_1</th>\n      <th>region_2</th>\n      <th>taster_name</th>\n      <th>taster_twitter_handle</th>\n      <th>title</th>\n      <th>variety</th>\n      <th>winery</th>\n    </tr>\n  </thead>\n  <tbody>\n    <tr>\n      <th>0</th>\n      <td>Italy</td>\n      <td>Aromas include tropical fruit, broom, brimston...</td>\n      <td>Vulkà Bianco</td>\n      <td>87</td>\n      <td>NaN</td>\n      <td>Sicily &amp; Sardinia</td>\n      <td>Etna</td>\n      <td>NaN</td>\n      <td>Kerin O’Keefe</td>\n      <td>@kerinokeefe</td>\n      <td>Nicosia 2013 Vulkà Bianco  (Etna)</td>\n      <td>White Blend</td>\n      <td>Nicosia</td>\n    </tr>\n    <tr>\n      <th>1</th>\n      <td>Portugal</td>\n      <td>This is ripe and fruity, a wine that is smooth...</td>\n      <td>Avidagos</td>\n      <td>87</td>\n      <td>15.0</td>\n      <td>Douro</td>\n      <td>NaN</td>\n      <td>NaN</td>\n      <td>Roger Voss</td>\n      <td>@vossroger</td>\n      <td>Quinta dos Avidagos 2011 Avidagos Red (Douro)</td>\n      <td>Portuguese Red</td>\n      <td>Quinta dos Avidagos</td>\n    </tr>\n    <tr>\n      <th>2</th>\n      <td>US</td>\n      <td>Tart and snappy, the flavors of lime flesh and...</td>\n      <td>NaN</td>\n      <td>87</td>\n      <td>14.0</td>\n      <td>Oregon</td>\n      <td>Willamette Valley</td>\n      <td>Willamette Valley</td>\n      <td>Paul Gregutt</td>\n      <td>@paulgwine</td>\n      <td>Rainstorm 2013 Pinot Gris (Willamette Valley)</td>\n      <td>Pinot Gris</td>\n      <td>Rainstorm</td>\n    </tr>\n    <tr>\n      <th>3</th>\n      <td>US</td>\n      <td>Pineapple rind, lemon pith and orange blossom ...</td>\n      <td>Reserve Late Harvest</td>\n      <td>87</td>\n      <td>13.0</td>\n      <td>Michigan</td>\n      <td>Lake Michigan Shore</td>\n      <td>NaN</td>\n      <td>Alexander Peartree</td>\n      <td>NaN</td>\n      <td>St. Julian 2013 Reserve Late Harvest Riesling ...</td>\n      <td>Riesling</td>\n      <td>St. Julian</td>\n    </tr>\n    <tr>\n      <th>4</th>\n      <td>US</td>\n      <td>Much like the regular bottling from 2012, this...</td>\n      <td>Vintner's Reserve Wild Child Block</td>\n      <td>87</td>\n      <td>65.0</td>\n      <td>Oregon</td>\n      <td>Willamette Valley</td>\n      <td>Willamette Valley</td>\n      <td>Paul Gregutt</td>\n      <td>@paulgwine</td>\n      <td>Sweet Cheeks 2012 Vintner's Reserve Wild Child...</td>\n      <td>Pinot Noir</td>\n      <td>Sweet Cheeks</td>\n    </tr>\n  </tbody>\n</table>\n</div>"
     },
     "metadata": {},
     "execution_count": 1
    }
   ],
   "source": [
    "import pandas as pd \n",
    "reviews = pd.read_csv('..\\data\\wine.csv', index_col=0)\n",
    "reviews.head()"
   ]
  },
  {
   "cell_type": "markdown",
   "metadata": {},
   "source": [
    "***\n",
    "1.\n",
    "What is the data type of the points column in the dataset?"
   ]
  },
  {
   "cell_type": "code",
   "execution_count": 2,
   "metadata": {},
   "outputs": [
    {
     "output_type": "execute_result",
     "data": {
      "text/plain": "dtype('int64')"
     },
     "metadata": {},
     "execution_count": 2
    }
   ],
   "source": [
    "dtype = reviews.points.dtypes\n",
    "dtype"
   ]
  },
  {
   "cell_type": "markdown",
   "metadata": {},
   "source": [
    "***\n",
    "2.\n",
    "Create a Series from entries in the points column, but convert the entries to strings. Hint: strings are str in native Python."
   ]
  },
  {
   "cell_type": "code",
   "execution_count": 3,
   "metadata": {},
   "outputs": [],
   "source": [
    "point_strings = reviews.points.astype('str')\n"
   ]
  },
  {
   "cell_type": "markdown",
   "metadata": {},
   "source": [
    "***\n",
    "3.\n",
    "Sometimes the price column is null. How many reviews in the dataset are missing a price?"
   ]
  },
  {
   "cell_type": "code",
   "execution_count": null,
   "metadata": {},
   "outputs": [],
   "source": [
    "missing_price_reviews = reviews[reviews.price.isnull()]\n",
    "n_missing_prices = len(missing_price_reviews)\n",
    "# Cute alternative solution\n",
    "n_missing_prices = reviews.price.isnull().sum()\n"
   ]
  },
  {
   "cell_type": "code",
   "execution_count": 7,
   "metadata": {},
   "outputs": [
    {
     "output_type": "execute_result",
     "data": {
      "text/plain": "         country                                        description  \\\n0          Italy  Aromas include tropical fruit, broom, brimston...   \n13         Italy  This is dominated by oak and oak-driven aromas...   \n30        France  Red cherry fruit comes laced with light tannin...   \n31         Italy  Merlot and Nero d'Avola form the base for this...   \n32         Italy  Part of the extended Calanìca series, this Gri...   \n...          ...                                                ...   \n129844     Italy  Doga delle Clavule is a neutral, mineral-drive...   \n129860  Portugal  This rich wine has a firm structure as well as...   \n129863  Portugal  This mature wine that has 50% Touriga Nacional...   \n129893     Italy  Aromas of passion fruit, hay and a vegetal not...   \n129964    France  Initially quite muted, this wine slowly develo...   \n\n                         designation  points  price           province  \\\n0                       Vulkà Bianco      87    NaN  Sicily & Sardinia   \n13                             Rosso      87    NaN  Sicily & Sardinia   \n30                           Nouveau      86    NaN         Beaujolais   \n31      Calanìca Nero d'Avola-Merlot      86    NaN  Sicily & Sardinia   \n32          Calanìca Grillo-Viognier      86    NaN  Sicily & Sardinia   \n...                              ...     ...    ...                ...   \n129844            Doga delle Clavule      86    NaN            Tuscany   \n129860              Pacheca Superior      90    NaN              Douro   \n129863                       Reserva      90    NaN                Dão   \n129893                  Corte Menini      91    NaN             Veneto   \n129964  Domaine Saint-Rémy Herrenweg      90    NaN             Alsace   \n\n                     region_1 region_2    taster_name taster_twitter_handle  \\\n0                        Etna      NaN  Kerin O’Keefe          @kerinokeefe   \n13                       Etna      NaN  Kerin O’Keefe          @kerinokeefe   \n30        Beaujolais-Villages      NaN     Roger Voss            @vossroger   \n31                    Sicilia      NaN            NaN                   NaN   \n32                    Sicilia      NaN            NaN                   NaN   \n...                       ...      ...            ...                   ...   \n129844  Morellino di Scansano      NaN            NaN                   NaN   \n129860                    NaN      NaN     Roger Voss            @vossroger   \n129863                    NaN      NaN     Roger Voss            @vossroger   \n129893         Soave Classico      NaN  Kerin O’Keefe          @kerinokeefe   \n129964                 Alsace      NaN     Roger Voss            @vossroger   \n\n                                                    title            variety  \\\n0                       Nicosia 2013 Vulkà Bianco  (Etna)        White Blend   \n13                 Masseria Setteporte 2012 Rosso  (Etna)  Nerello Mascalese   \n30      Domaine de la Madone 2012 Nouveau  (Beaujolais...              Gamay   \n31      Duca di Salaparuta 2010 Calanìca Nero d'Avola-...          Red Blend   \n32      Duca di Salaparuta 2011 Calanìca Grillo-Viogni...        White Blend   \n...                                                   ...                ...   \n129844  Caparzo 2006 Doga delle Clavule  (Morellino di...         Sangiovese   \n129860  Quinta da Pacheca 2013 Pacheca Superior Red (D...     Portuguese Red   \n129863                    Seacampo 2011 Reserva Red (Dão)     Portuguese Red   \n129893   Le Mandolare 2015 Corte Menini  (Soave Classico)          Garganega   \n129964  Domaine Ehrhart 2013 Domaine Saint-Rémy Herren...     Gewürztraminer   \n\n                      winery  \n0                    Nicosia  \n13       Masseria Setteporte  \n30      Domaine de la Madone  \n31        Duca di Salaparuta  \n32        Duca di Salaparuta  \n...                      ...  \n129844               Caparzo  \n129860     Quinta da Pacheca  \n129863              Seacampo  \n129893          Le Mandolare  \n129964       Domaine Ehrhart  \n\n[8996 rows x 13 columns]",
      "text/html": "<div>\n<style scoped>\n    .dataframe tbody tr th:only-of-type {\n        vertical-align: middle;\n    }\n\n    .dataframe tbody tr th {\n        vertical-align: top;\n    }\n\n    .dataframe thead th {\n        text-align: right;\n    }\n</style>\n<table border=\"1\" class=\"dataframe\">\n  <thead>\n    <tr style=\"text-align: right;\">\n      <th></th>\n      <th>country</th>\n      <th>description</th>\n      <th>designation</th>\n      <th>points</th>\n      <th>price</th>\n      <th>province</th>\n      <th>region_1</th>\n      <th>region_2</th>\n      <th>taster_name</th>\n      <th>taster_twitter_handle</th>\n      <th>title</th>\n      <th>variety</th>\n      <th>winery</th>\n    </tr>\n  </thead>\n  <tbody>\n    <tr>\n      <th>0</th>\n      <td>Italy</td>\n      <td>Aromas include tropical fruit, broom, brimston...</td>\n      <td>Vulkà Bianco</td>\n      <td>87</td>\n      <td>NaN</td>\n      <td>Sicily &amp; Sardinia</td>\n      <td>Etna</td>\n      <td>NaN</td>\n      <td>Kerin O’Keefe</td>\n      <td>@kerinokeefe</td>\n      <td>Nicosia 2013 Vulkà Bianco  (Etna)</td>\n      <td>White Blend</td>\n      <td>Nicosia</td>\n    </tr>\n    <tr>\n      <th>13</th>\n      <td>Italy</td>\n      <td>This is dominated by oak and oak-driven aromas...</td>\n      <td>Rosso</td>\n      <td>87</td>\n      <td>NaN</td>\n      <td>Sicily &amp; Sardinia</td>\n      <td>Etna</td>\n      <td>NaN</td>\n      <td>Kerin O’Keefe</td>\n      <td>@kerinokeefe</td>\n      <td>Masseria Setteporte 2012 Rosso  (Etna)</td>\n      <td>Nerello Mascalese</td>\n      <td>Masseria Setteporte</td>\n    </tr>\n    <tr>\n      <th>30</th>\n      <td>France</td>\n      <td>Red cherry fruit comes laced with light tannin...</td>\n      <td>Nouveau</td>\n      <td>86</td>\n      <td>NaN</td>\n      <td>Beaujolais</td>\n      <td>Beaujolais-Villages</td>\n      <td>NaN</td>\n      <td>Roger Voss</td>\n      <td>@vossroger</td>\n      <td>Domaine de la Madone 2012 Nouveau  (Beaujolais...</td>\n      <td>Gamay</td>\n      <td>Domaine de la Madone</td>\n    </tr>\n    <tr>\n      <th>31</th>\n      <td>Italy</td>\n      <td>Merlot and Nero d'Avola form the base for this...</td>\n      <td>Calanìca Nero d'Avola-Merlot</td>\n      <td>86</td>\n      <td>NaN</td>\n      <td>Sicily &amp; Sardinia</td>\n      <td>Sicilia</td>\n      <td>NaN</td>\n      <td>NaN</td>\n      <td>NaN</td>\n      <td>Duca di Salaparuta 2010 Calanìca Nero d'Avola-...</td>\n      <td>Red Blend</td>\n      <td>Duca di Salaparuta</td>\n    </tr>\n    <tr>\n      <th>32</th>\n      <td>Italy</td>\n      <td>Part of the extended Calanìca series, this Gri...</td>\n      <td>Calanìca Grillo-Viognier</td>\n      <td>86</td>\n      <td>NaN</td>\n      <td>Sicily &amp; Sardinia</td>\n      <td>Sicilia</td>\n      <td>NaN</td>\n      <td>NaN</td>\n      <td>NaN</td>\n      <td>Duca di Salaparuta 2011 Calanìca Grillo-Viogni...</td>\n      <td>White Blend</td>\n      <td>Duca di Salaparuta</td>\n    </tr>\n    <tr>\n      <th>...</th>\n      <td>...</td>\n      <td>...</td>\n      <td>...</td>\n      <td>...</td>\n      <td>...</td>\n      <td>...</td>\n      <td>...</td>\n      <td>...</td>\n      <td>...</td>\n      <td>...</td>\n      <td>...</td>\n      <td>...</td>\n      <td>...</td>\n    </tr>\n    <tr>\n      <th>129844</th>\n      <td>Italy</td>\n      <td>Doga delle Clavule is a neutral, mineral-drive...</td>\n      <td>Doga delle Clavule</td>\n      <td>86</td>\n      <td>NaN</td>\n      <td>Tuscany</td>\n      <td>Morellino di Scansano</td>\n      <td>NaN</td>\n      <td>NaN</td>\n      <td>NaN</td>\n      <td>Caparzo 2006 Doga delle Clavule  (Morellino di...</td>\n      <td>Sangiovese</td>\n      <td>Caparzo</td>\n    </tr>\n    <tr>\n      <th>129860</th>\n      <td>Portugal</td>\n      <td>This rich wine has a firm structure as well as...</td>\n      <td>Pacheca Superior</td>\n      <td>90</td>\n      <td>NaN</td>\n      <td>Douro</td>\n      <td>NaN</td>\n      <td>NaN</td>\n      <td>Roger Voss</td>\n      <td>@vossroger</td>\n      <td>Quinta da Pacheca 2013 Pacheca Superior Red (D...</td>\n      <td>Portuguese Red</td>\n      <td>Quinta da Pacheca</td>\n    </tr>\n    <tr>\n      <th>129863</th>\n      <td>Portugal</td>\n      <td>This mature wine that has 50% Touriga Nacional...</td>\n      <td>Reserva</td>\n      <td>90</td>\n      <td>NaN</td>\n      <td>Dão</td>\n      <td>NaN</td>\n      <td>NaN</td>\n      <td>Roger Voss</td>\n      <td>@vossroger</td>\n      <td>Seacampo 2011 Reserva Red (Dão)</td>\n      <td>Portuguese Red</td>\n      <td>Seacampo</td>\n    </tr>\n    <tr>\n      <th>129893</th>\n      <td>Italy</td>\n      <td>Aromas of passion fruit, hay and a vegetal not...</td>\n      <td>Corte Menini</td>\n      <td>91</td>\n      <td>NaN</td>\n      <td>Veneto</td>\n      <td>Soave Classico</td>\n      <td>NaN</td>\n      <td>Kerin O’Keefe</td>\n      <td>@kerinokeefe</td>\n      <td>Le Mandolare 2015 Corte Menini  (Soave Classico)</td>\n      <td>Garganega</td>\n      <td>Le Mandolare</td>\n    </tr>\n    <tr>\n      <th>129964</th>\n      <td>France</td>\n      <td>Initially quite muted, this wine slowly develo...</td>\n      <td>Domaine Saint-Rémy Herrenweg</td>\n      <td>90</td>\n      <td>NaN</td>\n      <td>Alsace</td>\n      <td>Alsace</td>\n      <td>NaN</td>\n      <td>Roger Voss</td>\n      <td>@vossroger</td>\n      <td>Domaine Ehrhart 2013 Domaine Saint-Rémy Herren...</td>\n      <td>Gewürztraminer</td>\n      <td>Domaine Ehrhart</td>\n    </tr>\n  </tbody>\n</table>\n<p>8996 rows × 13 columns</p>\n</div>"
     },
     "metadata": {},
     "execution_count": 7
    }
   ],
   "source": [
    "reviews[reviews.price.isnull()]"
   ]
  },
  {
   "cell_type": "markdown",
   "metadata": {},
   "source": [
    "***\n",
    "4.\n",
    "What are the most common wine-producing regions? Create a Series counting the number of times each value occurs in the region_1 field. This field is often missing data, so replace missing values with Unknown"
   ]
  },
  {
   "cell_type": "code",
   "execution_count": 8,
   "metadata": {},
   "outputs": [
    {
     "output_type": "execute_result",
     "data": {
      "text/plain": "Unknown                 21247\nNapa Valley              4480\nColumbia Valley (WA)     4124\nRussian River Valley     3091\nCalifornia               2629\n                        ...  \nMâcon-Mancey                1\nSonoma-Mendocino            1\nSardon de Duero             1\nNasco di Cagliari           1\nLamezia                     1\nName: region_1, Length: 1230, dtype: int64"
     },
     "metadata": {},
     "execution_count": 8
    }
   ],
   "source": [
    "reviews_per_region = reviews.region_1.fillna('Unknown').value_counts().sort_values(ascending=False)\n",
    "reviews_per_region"
   ]
  },
  {
   "cell_type": "code",
   "execution_count": null,
   "metadata": {},
   "outputs": [],
   "source": []
  }
 ],
 "metadata": {
  "language_info": {
   "codemirror_mode": {
    "name": "ipython",
    "version": 3
   },
   "file_extension": ".py",
   "mimetype": "text/x-python",
   "name": "python",
   "nbconvert_exporter": "python",
   "pygments_lexer": "ipython3",
   "version": "3.8.2-final"
  },
  "orig_nbformat": 2,
  "kernelspec": {
   "name": "python38232bit3aea2d5384c1481e9d3b93860f088ab4",
   "display_name": "Python 3.8.2 32-bit"
  }
 },
 "nbformat": 4,
 "nbformat_minor": 2
}