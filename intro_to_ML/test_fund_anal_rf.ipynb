{
 "cells": [
  {
   "cell_type": "code",
   "execution_count": 78,
   "metadata": {},
   "outputs": [],
   "source": [
    "import pandas as pd\n",
    "from datetime import datetime, timedelta, time\n",
    "from sklearn.metrics import mean_absolute_error\n",
    "from sklearn.model_selection import train_test_split\n",
    "from sklearn.tree import DecisionTreeRegressor\n",
    "fund_data = pd.read_csv('..\\data\\dfundamentals.csv')\n",
    "price_data = pd.read_csv('..\\data\\prices.csv')"
   ]
  },
  {
   "cell_type": "code",
   "execution_count": 2,
   "metadata": {},
   "outputs": [
    {
     "output_type": "execute_result",
     "data": {
      "text/plain": "                  date symbol        open       close         low        high  \\\n0  2016-01-05 00:00:00   WLTW  123.430000  125.839996  122.309998  126.250000   \n1  2016-01-06 00:00:00   WLTW  125.239998  119.980003  119.940002  125.540001   \n2  2016-01-07 00:00:00   WLTW  116.379997  114.949997  114.930000  119.739998   \n3  2016-01-08 00:00:00   WLTW  115.480003  116.620003  113.500000  117.440002   \n4  2016-01-11 00:00:00   WLTW  117.010002  114.970001  114.089996  117.330002   \n\n      volume  \n0  2163600.0  \n1  2386400.0  \n2  2489500.0  \n3  2006300.0  \n4  1408600.0  ",
      "text/html": "<div>\n<style scoped>\n    .dataframe tbody tr th:only-of-type {\n        vertical-align: middle;\n    }\n\n    .dataframe tbody tr th {\n        vertical-align: top;\n    }\n\n    .dataframe thead th {\n        text-align: right;\n    }\n</style>\n<table border=\"1\" class=\"dataframe\">\n  <thead>\n    <tr style=\"text-align: right;\">\n      <th></th>\n      <th>date</th>\n      <th>symbol</th>\n      <th>open</th>\n      <th>close</th>\n      <th>low</th>\n      <th>high</th>\n      <th>volume</th>\n    </tr>\n  </thead>\n  <tbody>\n    <tr>\n      <th>0</th>\n      <td>2016-01-05 00:00:00</td>\n      <td>WLTW</td>\n      <td>123.430000</td>\n      <td>125.839996</td>\n      <td>122.309998</td>\n      <td>126.250000</td>\n      <td>2163600.0</td>\n    </tr>\n    <tr>\n      <th>1</th>\n      <td>2016-01-06 00:00:00</td>\n      <td>WLTW</td>\n      <td>125.239998</td>\n      <td>119.980003</td>\n      <td>119.940002</td>\n      <td>125.540001</td>\n      <td>2386400.0</td>\n    </tr>\n    <tr>\n      <th>2</th>\n      <td>2016-01-07 00:00:00</td>\n      <td>WLTW</td>\n      <td>116.379997</td>\n      <td>114.949997</td>\n      <td>114.930000</td>\n      <td>119.739998</td>\n      <td>2489500.0</td>\n    </tr>\n    <tr>\n      <th>3</th>\n      <td>2016-01-08 00:00:00</td>\n      <td>WLTW</td>\n      <td>115.480003</td>\n      <td>116.620003</td>\n      <td>113.500000</td>\n      <td>117.440002</td>\n      <td>2006300.0</td>\n    </tr>\n    <tr>\n      <th>4</th>\n      <td>2016-01-11 00:00:00</td>\n      <td>WLTW</td>\n      <td>117.010002</td>\n      <td>114.970001</td>\n      <td>114.089996</td>\n      <td>117.330002</td>\n      <td>1408600.0</td>\n    </tr>\n  </tbody>\n</table>\n</div>"
     },
     "metadata": {},
     "execution_count": 2
    }
   ],
   "source": [
    "price_data.head()"
   ]
  },
  {
   "cell_type": "code",
   "execution_count": 23,
   "metadata": {},
   "outputs": [
    {
     "output_type": "execute_result",
     "data": {
      "text/plain": "Index(['Unnamed: 0', 'Ticker Symbol', 'Period Ending', 'Accounts Payable',\n       'Accounts Receivable', 'Add'l income/expense items', 'After Tax ROE',\n       'Capital Expenditures', 'Capital Surplus', 'Cash Ratio',\n       'Cash and Cash Equivalents', 'Changes in Inventories', 'Common Stocks',\n       'Cost of Revenue', 'Current Ratio', 'Deferred Asset Charges',\n       'Deferred Liability Charges', 'Depreciation',\n       'Earnings Before Interest and Tax', 'Earnings Before Tax',\n       'Effect of Exchange Rate',\n       'Equity Earnings/Loss Unconsolidated Subsidiary', 'Fixed Assets',\n       'Goodwill', 'Gross Margin', 'Gross Profit', 'Income Tax',\n       'Intangible Assets', 'Interest Expense', 'Inventory', 'Investments',\n       'Liabilities', 'Long-Term Debt', 'Long-Term Investments',\n       'Minority Interest', 'Misc. Stocks', 'Net Borrowings', 'Net Cash Flow',\n       'Net Cash Flow-Operating', 'Net Cash Flows-Financing',\n       'Net Cash Flows-Investing', 'Net Income', 'Net Income Adjustments',\n       'Net Income Applicable to Common Shareholders',\n       'Net Income-Cont. Operations', 'Net Receivables', 'Non-Recurring Items',\n       'Operating Income', 'Operating Margin', 'Other Assets',\n       'Other Current Assets', 'Other Current Liabilities', 'Other Equity',\n       'Other Financing Activities', 'Other Investing Activities',\n       'Other Liabilities', 'Other Operating Activities',\n       'Other Operating Items', 'Pre-Tax Margin', 'Pre-Tax ROE',\n       'Profit Margin', 'Quick Ratio', 'Research and Development',\n       'Retained Earnings', 'Sale and Purchase of Stock',\n       'Sales, General and Admin.',\n       'Short-Term Debt / Current Portion of Long-Term Debt',\n       'Short-Term Investments', 'Total Assets', 'Total Current Assets',\n       'Total Current Liabilities', 'Total Equity', 'Total Liabilities',\n       'Total Liabilities & Equity', 'Total Revenue', 'Treasury Stock',\n       'For Year', 'Earnings Per Share', 'Estimated Shares Outstanding'],\n      dtype='object')"
     },
     "metadata": {},
     "execution_count": 23
    }
   ],
   "source": [
    "fund_data.columns"
   ]
  },
  {
   "cell_type": "code",
   "execution_count": null,
   "metadata": {},
   "outputs": [],
   "source": [
    "date = price_data.loc[0,'date']\n",
    "che_date = pd.Timestamp(date) - pd.Timedelta(days=2)\n",
    "#ch_date = pd.Timestamp.strftime('%Y-%m-%d %H:%M:%S',ch_date)\n",
    "\n"
   ]
  },
  {
   "cell_type": "code",
   "execution_count": null,
   "metadata": {},
   "outputs": [],
   "source": [
    "price_data['date'] =  pd.to_datetime(price_data['date'],\n",
    "                              format=\"%Y-%m-%d\")"
   ]
  },
  {
   "cell_type": "code",
   "execution_count": null,
   "metadata": {},
   "outputs": [],
   "source": [
    "price_data['date']"
   ]
  },
  {
   "cell_type": "code",
   "execution_count": 100,
   "metadata": {},
   "outputs": [
    {
     "output_type": "execute_result",
     "data": {
      "text/plain": "                       date symbol        open       close         low  \\\n2       2016-01-07 00:00:00   WLTW  116.379997  114.949997  114.930000   \n727385  2016-01-07 00:00:00    AIV   39.759998   39.970001   39.669998   \n\n              high     volume  \n2       119.739998  2489500.0  \n727385   40.099998  1580200.0  ",
      "text/html": "<div>\n<style scoped>\n    .dataframe tbody tr th:only-of-type {\n        vertical-align: middle;\n    }\n\n    .dataframe tbody tr th {\n        vertical-align: top;\n    }\n\n    .dataframe thead th {\n        text-align: right;\n    }\n</style>\n<table border=\"1\" class=\"dataframe\">\n  <thead>\n    <tr style=\"text-align: right;\">\n      <th></th>\n      <th>date</th>\n      <th>symbol</th>\n      <th>open</th>\n      <th>close</th>\n      <th>low</th>\n      <th>high</th>\n      <th>volume</th>\n    </tr>\n  </thead>\n  <tbody>\n    <tr>\n      <th>2</th>\n      <td>2016-01-07 00:00:00</td>\n      <td>WLTW</td>\n      <td>116.379997</td>\n      <td>114.949997</td>\n      <td>114.930000</td>\n      <td>119.739998</td>\n      <td>2489500.0</td>\n    </tr>\n    <tr>\n      <th>727385</th>\n      <td>2016-01-07 00:00:00</td>\n      <td>AIV</td>\n      <td>39.759998</td>\n      <td>39.970001</td>\n      <td>39.669998</td>\n      <td>40.099998</td>\n      <td>1580200.0</td>\n    </tr>\n  </tbody>\n</table>\n</div>"
     },
     "metadata": {},
     "execution_count": 100
    }
   ],
   "source": [
    "price_data.loc[price_data.date=='2016-01-07 00:00:00']\n"
   ]
  },
  {
   "cell_type": "code",
   "execution_count": null,
   "metadata": {},
   "outputs": [],
   "source": [
    "ch_date"
   ]
  }
 ],
 "metadata": {
  "language_info": {
   "codemirror_mode": {
    "name": "ipython",
    "version": 3
   },
   "file_extension": ".py",
   "mimetype": "text/x-python",
   "name": "python",
   "nbconvert_exporter": "python",
   "pygments_lexer": "ipython3",
   "version": "3.7.6-final"
  },
  "orig_nbformat": 2,
  "kernelspec": {
   "name": "python37664bit5b13e9d844b2479aa6d0ec56e254ee9a",
   "display_name": "Python 3.7.6 64-bit"
  }
 },
 "nbformat": 4,
 "nbformat_minor": 2
}